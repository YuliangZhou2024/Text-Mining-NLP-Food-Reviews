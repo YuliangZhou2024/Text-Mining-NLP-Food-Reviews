{
 "cells": [
  {
   "cell_type": "markdown",
   "metadata": {},
   "source": [
    "Before you turn this coursework in, make sure everything runs as expected. First, **restart the kernel** (in the menubar, select Kernel$\\rightarrow$Restart) and then **run all cells** (in the menubar, select Cell$\\rightarrow$Run All)."
   ]
  },
  {
   "cell_type": "code",
   "execution_count": 43,
   "metadata": {},
   "outputs": [],
   "source": [
    "NAME = \"Yuliang Zhou\"\n",
    "CIS_USERNAME = \"dhjb18\""
   ]
  },
  {
   "cell_type": "markdown",
   "metadata": {},
   "source": [
    "---"
   ]
  },
  {
   "cell_type": "markdown",
   "metadata": {
    "deletable": false,
    "editable": false,
    "nbgrader": {
     "cell_type": "markdown",
     "checksum": "c2ed8244d1822167b9619a27c5056a2d",
     "grade": false,
     "grade_id": "cell-c772e32fbd55cccd",
     "locked": true,
     "schema_version": 3,
     "solution": false,
     "task": false
    }
   },
   "source": [
    "# COMP42415 Text Mining and Language Analytics\n",
    "## Coursework 2023-24\n",
    "\n",
    "### Instructions:\n",
    "\n",
    "- <ins>**DO NOT RENAME THIS JUPYTER NOTEBOOK !!!**</ins>\n",
    "- Please write the answers for each question in the respective cell. \n",
    "- You can add more cells if needed.\n",
    "- If needed, you can upload additional files, e.g. pre-trained word embeddings, in the coursework's directory\n",
    "- You can safely remove the `raise NotImplementedError()` line from each code cell.\n",
    "- You can find information about markdown syntax from [here](https://www.markdownguide.org/basic-syntax/#emphasis)."
   ]
  },
  {
   "cell_type": "markdown",
   "metadata": {
    "deletable": false,
    "editable": false,
    "nbgrader": {
     "cell_type": "markdown",
     "checksum": "068e2a188a6a3db5c142be9d8afbb053",
     "grade": false,
     "grade_id": "cell-7f0204ddaabf431f",
     "locked": true,
     "schema_version": 3,
     "solution": false,
     "task": false
    }
   },
   "source": [
    "## Implementation - Task 1\n",
    "Prepare the dataset by applying any pre-processing or cleaning steps that you consider as necessary. Then, split the dataset into a training set containing 70% of the samples and a test set containing 30% of the samples. Follow an appropriate strategy for the split. You must use these training/test sets for all the models in this coursework. (**10%**)"
   ]
  },
  {
   "cell_type": "code",
   "execution_count": 27,
   "metadata": {
    "deletable": false,
    "nbgrader": {
     "cell_type": "code",
     "checksum": "9d8184a650c6efb613adc101bb08baf9",
     "grade": true,
     "grade_id": "cell-1ec6ac90f0506a35",
     "locked": false,
     "points": 10,
     "schema_version": 3,
     "solution": true,
     "task": false
    }
   },
   "outputs": [],
   "source": [
    "# YOUR CODE HERE\n",
    "#raise NotImplementedError()\n",
    "import pandas as pd\n",
    "from sklearn.model_selection import train_test_split\n",
    "from nltk import word_tokenize\n",
    "import re\n",
    "from nltk.corpus import stopwords\n",
    "from string import punctuation\n",
    "\n",
    "#load data\n",
    "df_raw = pd.read_csv('food_reviews.csv', header=0) \n",
    "#check data \n",
    "# df_raw.shape[0]\n",
    "# df_raw['Score'].value_counts(normalize=True)\n",
    "# df_raw['Text'].str.len().max()\n",
    "\n",
    "df_raw.drop(df_raw[df_raw.Text.str.len() < 50].index, inplace=True)\n",
    "df_raw = df_raw.reset_index(drop=True)\n",
    "\n",
    "#connect Summary and Text together, because I think they are all useful\n",
    "df_raw['overallreview'] = df_raw['Summary'].astype(str)+ ' ' + df_raw['Text'].astype(str)\n",
    "\n",
    "def get_words_preprocessed(text):\n",
    "    #punctuation_list = list(punctuation)\n",
    "    stopwords_english = stopwords.words('english') \n",
    "    text = re.sub(r'<.*?>', '', text)# Remove HTML tags\n",
    "    text = re.sub(r'[^\\w\\s]', '', text) # I tried to use punctuation, but find re performs better at removing the punctuations and symbols\n",
    "    \n",
    "    words = text.split()\n",
    "    result = []\n",
    "    \n",
    "    for word in words:\n",
    "        if word.lower() not in stopwords_english: #remove stop words\n",
    "            result.append(word.lower()) #lowercase \n",
    "    return result\n",
    "\n",
    "def copus_process(dataframe):\n",
    "    dataframe['overallreview'] = dataframe['overallreview'].apply(get_words_preprocessed)\n",
    "    count_row = dataframe.shape[0] \n",
    "    dataset = []\n",
    "    for i in range(count_row):\n",
    "        text = \" \".join(dataframe['overallreview'][i]) \n",
    "        dataset.append(text)\n",
    "   \n",
    "    X = dataset \n",
    "    y = dataframe['Score']  \n",
    "    return X,y\n",
    "\n",
    "#because the class unbalance in target variable 'Score'\n",
    "#I use two ways for training data set: 1) random sampling 2)stratified sampling \n",
    "#for test data set, I use random sampling method, and use the same test data set through this report\n",
    "def sampling(dataframe):\n",
    "    # Splitting the original dataset into train and test datasets\n",
    "    sample_size_test = 3000\n",
    "    df_train, df_test = train_test_split(df_raw, test_size=sample_size_test, random_state=42)\n",
    "\n",
    "    # Training dataset selection using random sampling\n",
    "    sample_size_train_rd = 7000\n",
    "    df_train_rd = df_train.sample(n=sample_size_train_rd, random_state=42)\n",
    "    df_train_rd.reset_index(drop=True, inplace=True)\n",
    "    samples_train_rd, labels_train_rd = copus_process(df_train_rd)\n",
    "\n",
    "    # Training dataset selection using stratified sampling\n",
    "    sample_size_train_str = 7000\n",
    "    stratum_proportions = df_train['Score'].value_counts(normalize=True)\n",
    "    sampling_fracs = sample_size_train_str / df_train.groupby('Score').size()\n",
    "    df_train_str = df_train.groupby('Score', group_keys=False).apply(lambda x: x.sample(frac=sampling_fracs[x.name], random_state=42))\n",
    "    df_train_str.reset_index(drop=True, inplace=True)\n",
    "    samples_train_str, labels_train_str = copus_process(df_train_str)\n",
    "\n",
    "    # Preprocessing the test dataset\n",
    "    df_test.reset_index(drop=True, inplace=True)\n",
    "    samples_test, labels_test= copus_process(df_test)\n",
    "    \n",
    "    print(\"Training samples random method:\" , len(samples_train_rd))\n",
    "    print(\"Training samples stratified method:\" , len(samples_train_rd))\n",
    "    print(\"Test samples\" , len(samples_test))\n",
    "    return samples_train_rd, labels_train_rd, samples_train_str, labels_train_str, samples_test, labels_test\n",
    "\n",
    "samples_train_rd, labels_train_rd, samples_train_str, labels_train_str, samples_test, labels_test= sampling(df_raw)"
   ]
  },
  {
   "cell_type": "markdown",
   "metadata": {
    "deletable": false,
    "editable": false,
    "nbgrader": {
     "cell_type": "markdown",
     "checksum": "cee84be8ff5d30b3cc777f43b92b5b69",
     "grade": false,
     "grade_id": "cell-b691a7bc111d2ca5",
     "locked": true,
     "schema_version": 3,
     "solution": false,
     "task": false
    }
   },
   "source": [
    "## Implementation - Task 2\n",
    "Implement a Naïve Bayes model for predicting the rating of a food review. Train your model on the training set and test it on the test set. Use an appropriate text representation. (**5%**)"
   ]
  },
  {
   "cell_type": "code",
   "execution_count": 29,
   "metadata": {
    "deletable": false,
    "nbgrader": {
     "cell_type": "code",
     "checksum": "638739c81d3d084fbcc8233bbecb6b02",
     "grade": true,
     "grade_id": "cell-c7228a828210126a",
     "locked": false,
     "points": 5,
     "schema_version": 3,
     "solution": true,
     "task": false
    }
   },
   "outputs": [
    {
     "name": "stdout",
     "output_type": "stream",
     "text": [
      "Ground truth: [5, 3, 5, 1, 5, 5, 5, 5, 5, 5]\n",
      "\n",
      "\n",
      "random sampling predicted\n",
      "Predicted: [5, 5, 5, 5, 5, 5, 5, 5, 5, 5]\n",
      "\n",
      "\n",
      "stratified sampling predicted\n",
      "Predicted: [4, 3, 5, 1, 4, 4, 5, 5, 4, 5]\n"
     ]
    }
   ],
   "source": [
    "# YOUR CODE HERE\n",
    "#raise NotImplementedError()\n",
    "\n",
    "from sklearn.feature_extraction.text import TfidfVectorizer\n",
    "from sklearn.naive_bayes import MultinomialNB\n",
    "from sklearn.pipeline import make_pipeline\n",
    "from sklearn.metrics import confusion_matrix, accuracy_score, f1_score,precision_score,recall_score, classification_report\n",
    "import seaborn as sns\n",
    "import matplotlib.pyplot as plt\n",
    "\n",
    "def model_nb(samples_train, samples_test, labels_train, labels_test):\n",
    "    model_nb = make_pipeline(TfidfVectorizer(), MultinomialNB())\n",
    "    model_nb.fit(samples_train, labels_train) \n",
    "    predicted_categories_nb = model_nb.predict(samples_test) \n",
    "\n",
    "    print(\"Predicted:\",predicted_categories_nb.tolist()[0:10])\n",
    "    return model_nb,predicted_categories_nb\n",
    "\n",
    "print(\"Ground truth:\",labels_test.tolist()[0:10])\n",
    "print(\"\\n\")\n",
    "print(\"random sampling predicted\")\n",
    "model_nb_rd,predicted_categories_nb_rd = model_nb(samples_train_rd, samples_test, labels_train_rd, labels_test)\n",
    "print(\"\\n\")\n",
    "print(\"stratified sampling predicted\")\n",
    "model_nb_str,predicted_categories_nb_str = model_nb(samples_train_str, samples_test, labels_train_str, labels_test)\n"
   ]
  },
  {
   "cell_type": "markdown",
   "metadata": {
    "deletable": false,
    "editable": false,
    "nbgrader": {
     "cell_type": "markdown",
     "checksum": "3a8672a0a32389c7076c73d1de3acfb1",
     "grade": false,
     "grade_id": "cell-bd3fe708de79e951",
     "locked": true,
     "schema_version": 3,
     "solution": false,
     "task": false
    }
   },
   "source": [
    "## Implementation - Task 3\n",
    "Implement a k-Nearest Neighbours model for predicting the rating of a food review. Train your model on the training set and test it on the test set. Use an appropriate text representation. You must select the best k by examining the performance of the model for $k \\in \\{1,3,5,7\\}$, using an appropriate cross-validation approach. Create a plot for k vs. classification performance to justify your choice. (**10%**)"
   ]
  },
  {
   "cell_type": "code",
   "execution_count": 30,
   "metadata": {
    "deletable": false,
    "nbgrader": {
     "cell_type": "code",
     "checksum": "b7c5809dc4f4de2b111845abdcf40ddf",
     "grade": true,
     "grade_id": "cell-e566d393c7fac970",
     "locked": false,
     "points": 10,
     "schema_version": 3,
     "solution": true,
     "task": false
    },
    "scrolled": true
   },
   "outputs": [
    {
     "name": "stdout",
     "output_type": "stream",
     "text": [
      "Current k value: 1\n",
      "k = 1 Accuracy -> 0.528 f1 score -> 0.276741953840848\n",
      "Current k value: 3\n",
      "k = 3 Accuracy -> 0.5607142857142857 f1 score -> 0.26926976508035094\n",
      "Current k value: 5\n",
      "k = 5 Accuracy -> 0.6037142857142856 f1 score -> 0.27720165268511\n",
      "Current k value: 7\n",
      "k = 7 Accuracy -> 0.6241428571428571 f1 score -> 0.2641513759299015\n"
     ]
    },
    {
     "data": {
      "image/png": "[encoded data removed]",
      "text/plain": [
       "<Figure size 432x288 with 1 Axes>"
      ]
     },
     "metadata": {
      "needs_background": "light"
     },
     "output_type": "display_data"
    }
   ],
   "source": [
    "# YOUR CODE HERE\n",
    "#raise NotImplementedError()\n",
    "from sklearn.neighbors import KNeighborsClassifier\n",
    "import numpy as np\n",
    "import matplotlib.pyplot as plt\n",
    "from sklearn.model_selection import cross_val_score\n",
    "from sklearn.feature_extraction.text import TfidfVectorizer\n",
    "from sklearn.pipeline import Pipeline\n",
    "\n",
    "k_list = np.array([1,3,5,7])\n",
    "\n",
    "def knn_cross(samples_train, samples_test, labels_train, labels_test):\n",
    "    cross_val_accuracy = []\n",
    "    cross_val_f1 = []\n",
    "    for i in range(len(k_list)):    \n",
    "        k = k_list[i]\n",
    "        print(\"Current k value:\", k)\n",
    "        # build model using tf-idf method\n",
    "        model_knn = make_pipeline(TfidfVectorizer(), KNeighborsClassifier(n_neighbors=k_list[i]))\n",
    "        model_knn.fit(samples_train, labels_train)\n",
    "        #use cross-validation accuracy and f1 to evaluate the model\n",
    "        accuracy = cross_val_score(model_knn, samples_train, labels_train, cv=4, scoring='accuracy')\n",
    "        cross_val_accuracy.append(np.mean(accuracy))\n",
    "\n",
    "        f1 = cross_val_score(model_knn, samples_train, labels_train, cv=4, scoring='f1_macro')\n",
    "        cross_val_f1.append(np.mean(f1))\n",
    "        print(\"k =\", k_list[i], \"Accuracy ->\", np.mean(accuracy), \"f1 score ->\", np.mean(f1))\n",
    "    return cross_val_accuracy,cross_val_f1\n",
    "\n",
    "cross_val_accuracy_rd,cross_val_f1_rd = knn_cross(samples_train_rd, samples_test, labels_train_rd, labels_test)\n",
    "\n",
    "plt.plot(k_list, cross_val_accuracy_rd, label='cross_val_accuracy')\n",
    "plt.plot(k_list, cross_val_f1_rd, label='f1', color = 'red')\n",
    "plt.xlabel('k')\n",
    "plt.ylabel('Score')\n",
    "plt.legend()\n",
    "plt.title('random sampling')\n",
    "plt.show()\n",
    "\n",
    "\n",
    "def final_knn_model(samples_train, samples_test, labels_train, labels_test,k):\n",
    "    model_knn = make_pipeline(TfidfVectorizer(), KNeighborsClassifier(n_neighbors=k))\n",
    "    model_knn.fit(samples_train, labels_train)\n",
    "    predicted_categories_knn = model_knn.predict(samples_test)\n",
    "    print(\"Predicted:\",predicted_categories_knn.tolist()[0:20]) \n",
    "    print(\"Ground truth:\",labels_test.tolist()[0:20]) \n",
    "    return model_knn,predicted_categories_knn\n",
    "\n",
    "# for random sampling, decide to use k = 5 \n",
    "print('random sampling predicted')\n",
    "model_knn_rd,predicted_categories_knn_rd = final_knn_model(samples_train_rd, samples_test, labels_train_rd, labels_test,5)\n",
    "\n",
    "\n",
    "# cross_val_accuracy_str,cross_val_f1_str = knn_cross(samples_train_str, samples_test, labels_train_str, labels_test)\n",
    "\n",
    "# plt.plot(k_list, cross_val_accuracy_str, label='cross_val_accuracy')\n",
    "# plt.plot(k_list, cross_val_f1_str, label='f1', color = 'red')\n",
    "# plt.xlabel('k')\n",
    "# plt.ylabel('Score')\n",
    "# plt.legend()\n",
    "# plt.title('stratified sampling ')\n",
    "# plt.show()\n",
    "\n",
    "#for stratified sampling, decide to use k = \n",
    "# print(\"\\n\")\n",
    "# print(\"stratified sampling predicted\")\n",
    "# model_knn_str,predicted_categories_knn_str = final_knn_model(samples_train_str, samples_test, labels_train_str, labels_test,5)\n"
   ]
  },
  {
   "cell_type": "markdown",
   "metadata": {
    "deletable": false,
    "editable": false,
    "nbgrader": {
     "cell_type": "markdown",
     "checksum": "43ad334a0b661041421fbde0c35614c1",
     "grade": false,
     "grade_id": "cell-ceb568d7b9979383",
     "locked": true,
     "schema_version": 3,
     "solution": false,
     "task": false
    }
   },
   "source": [
    "## Implementation - Task 4\n",
    "Implement a Convolutional Neural Network (CNN) model for predicting the rating of a food review. The model must have at least two convolutional layers. Train your model on the training set and test it on the test set. Use an appropriate text representation. (**13%**)"
   ]
  },
  {
   "cell_type": "code",
   "execution_count": 32,
   "metadata": {
    "deletable": false,
    "nbgrader": {
     "cell_type": "code",
     "checksum": "bc79d3616790883ed0539f3416cb92ad",
     "grade": true,
     "grade_id": "cell-8062f67e02d4c61f",
     "locked": false,
     "points": 13,
     "schema_version": 3,
     "solution": true,
     "task": false
    },
    "scrolled": true
   },
   "outputs": [
    {
     "name": "stdout",
     "output_type": "stream",
     "text": [
      "random sampling predicted\n",
      "Epoch 1/5\n",
      "197/197 [==============================] - 23s 112ms/step - loss: 1.0646 - accuracy: 0.6362 - val_loss: 0.9000 - val_accuracy: 0.6857\n",
      "Epoch 2/5\n",
      "197/197 [==============================] - 23s 116ms/step - loss: 0.7238 - accuracy: 0.7278 - val_loss: 0.8504 - val_accuracy: 0.7057\n",
      "Epoch 3/5\n",
      "197/197 [==============================] - 25s 125ms/step - loss: 0.3450 - accuracy: 0.8775 - val_loss: 1.0887 - val_accuracy: 0.6657\n",
      "Epoch 4/5\n",
      "197/197 [==============================] - 22s 112ms/step - loss: 0.0894 - accuracy: 0.9846 - val_loss: 1.2651 - val_accuracy: 0.6929\n",
      "Epoch 5/5\n",
      "197/197 [==============================] - 23s 116ms/step - loss: 0.0155 - accuracy: 0.9989 - val_loss: 1.4077 - val_accuracy: 0.6886\n",
      "94/94 [==============================] - 2s 24ms/step - loss: 1.2677 - accuracy: 0.6977\n",
      "Test Loss: 1.267702341079712\n",
      "Test Accuracy: 0.6976666450500488\n"
     ]
    },
    {
     "data": {
      "image/png": "[encoded data removed]",
      "text/plain": [
       "<Figure size 432x288 with 1 Axes>"
      ]
     },
     "metadata": {
      "needs_background": "light"
     },
     "output_type": "display_data"
    },
    {
     "name": "stdout",
     "output_type": "stream",
     "text": [
      "94/94 [==============================] - 2s 24ms/step\n",
      "\n",
      "\n",
      "stratified sampling predicted\n",
      "Epoch 1/5\n",
      "985/985 [==============================] - 419s 425ms/step - loss: 1.2030 - accuracy: 0.4722 - val_loss: 1.0526 - val_accuracy: 0.5854\n",
      "Epoch 2/5\n",
      "985/985 [==============================] - 422s 429ms/step - loss: 0.7285 - accuracy: 0.7168 - val_loss: 1.2866 - val_accuracy: 0.4486\n",
      "Epoch 3/5\n",
      "985/985 [==============================] - 457s 464ms/step - loss: 0.2406 - accuracy: 0.9243 - val_loss: 1.3746 - val_accuracy: 0.5377\n",
      "Epoch 4/5\n",
      "985/985 [==============================] - 462s 469ms/step - loss: 0.0457 - accuracy: 0.9908 - val_loss: 1.7650 - val_accuracy: 0.5243\n",
      "Epoch 5/5\n",
      "985/985 [==============================] - 457s 464ms/step - loss: 0.0100 - accuracy: 0.9991 - val_loss: 2.6071 - val_accuracy: 0.4711\n",
      "94/94 [==============================] - 8s 88ms/step - loss: 2.2961 - accuracy: 0.5197\n",
      "Test Loss: 2.2961254119873047\n",
      "Test Accuracy: 0.5196666717529297\n"
     ]
    },
    {
     "data": {
      "image/png": "[encoded data removed]",
      "text/plain": [
       "<Figure size 432x288 with 1 Axes>"
      ]
     },
     "metadata": {
      "needs_background": "light"
     },
     "output_type": "display_data"
    },
    {
     "name": "stdout",
     "output_type": "stream",
     "text": [
      "94/94 [==============================] - 8s 87ms/step\n"
     ]
    }
   ],
   "source": [
    "# YOUR CODE HERE\n",
    "#raise NotImplementedError()\n",
    "import tensorflow\n",
    "from tensorflow.keras.models import Sequential\n",
    "from tensorflow.keras.layers import Embedding, Conv1D, GlobalMaxPooling1D, Dense\n",
    "from tensorflow.keras.preprocessing.text import Tokenizer\n",
    "from tensorflow.keras.preprocessing.sequence import pad_sequences\n",
    "from sklearn.metrics import f1_score\n",
    "import matplotlib.pyplot as plt\n",
    "\n",
    "def cnn_model(samples_train, samples_test, labels_train, labels_test):\n",
    "    # Tokenize and pad sequences\n",
    "    tokenizer = Tokenizer()\n",
    "    tokenizer.fit_on_texts(samples_train)\n",
    "\n",
    "    X_train = tokenizer.texts_to_sequences(samples_train)\n",
    "    X_test = tokenizer.texts_to_sequences(samples_test)\n",
    "\n",
    "    max_sequence_length = max(len(seq) for seq in X_train + X_test)\n",
    "    X_train_padded = pad_sequences(X_train, maxlen=max_sequence_length)\n",
    "    X_test_padded = pad_sequences(X_test, maxlen=max_sequence_length)\n",
    "\n",
    "    Y_train = np.array(labels_train) - 1\n",
    "    Y_test = np.array(labels_test) - 1\n",
    "\n",
    "    # Build the CNN model\n",
    "    model_cnn = Sequential()\n",
    "    model_cnn.add(Embedding(input_dim=len(tokenizer.word_index)+1, output_dim=128)) #, input_length=max_sequence_length\n",
    "    model_cnn.add(Conv1D(filters=128, kernel_size=5, activation='relu'))\n",
    "    model_cnn.add(GlobalMaxPooling1D())\n",
    "    model_cnn.add(Dense(128, activation='relu'))\n",
    "    model_cnn.add(Dense(5, activation='softmax'))\n",
    "\n",
    "    model_cnn.compile(optimizer='adam', loss='sparse_categorical_crossentropy', metrics=['accuracy'])\n",
    "\n",
    "    # Train the model\n",
    "    history = model_cnn.fit(X_train_padded, Y_train, epochs=5, validation_split=0.1)\n",
    "\n",
    "    # Evaluate the model\n",
    "    loss, accuracy = model_cnn.evaluate(X_test_padded, Y_test)\n",
    "    print(\"Test Loss:\", loss)\n",
    "    print(\"Test Accuracy:\", accuracy)\n",
    "\n",
    "    # Plot training history\n",
    "    plt.plot(history.history['accuracy'], label='accuracy')\n",
    "    plt.plot(history.history['val_accuracy'], label='val_accuracy')\n",
    "    plt.xlabel('Epoch')\n",
    "    plt.ylabel('Accuracy')\n",
    "    plt.legend(loc='lower right')\n",
    "    plt.show()\n",
    "\n",
    "    # Predict probabilities for each class\n",
    "    Y_pred_probabilities = model_cnn.predict(X_test_padded)\n",
    "\n",
    "    # Extract predicted classes (argmax of predicted probabilities)\n",
    "    predicted_categories_cnn = np.argmax(Y_pred_probabilities, axis=1)\n",
    "    return model_cnn,predicted_categories_cnn\n",
    "\n",
    "print('random sampling predicted')\n",
    "model_cnn_rd,predicted_categories_cnn_rd = cnn_model(samples_train_rd, samples_test, labels_train_rd, labels_test)\n",
    "print(\"\\n\")\n",
    "print(\"stratified sampling predicted\")\n",
    "model_cnn_str,predicted_categories_cnn_str = cnn_model(samples_train_str, samples_test, labels_train_str, labels_test)\n"
   ]
  },
  {
   "cell_type": "markdown",
   "metadata": {
    "deletable": false,
    "editable": false,
    "nbgrader": {
     "cell_type": "markdown",
     "checksum": "74843fe33a4f86a21469871aac52bb90",
     "grade": false,
     "grade_id": "cell-a985e9ca1140281d",
     "locked": true,
     "schema_version": 3,
     "solution": false,
     "task": false
    }
   },
   "source": [
    "## Implementation - Task 5\n",
    "Implement a Recurrent Neural Network (RNN) or a Long Short-Term Memory (LSTM) model for predicting the rating of a food review. The model must have at least two RNN/LSTM layers. Train your model on the training set and test it on the test set. Use an appropriate text representation. (**12%**)"
   ]
  },
  {
   "cell_type": "code",
   "execution_count": 33,
   "metadata": {
    "deletable": false,
    "nbgrader": {
     "cell_type": "code",
     "checksum": "eb7179dcc099d3d51db8e0d4d4c53c7b",
     "grade": true,
     "grade_id": "cell-76f081948cba4b02",
     "locked": false,
     "points": 12,
     "schema_version": 3,
     "solution": true,
     "task": false
    },
    "scrolled": false
   },
   "outputs": [
    {
     "name": "stdout",
     "output_type": "stream",
     "text": [
      "random sampling predicted\n",
      "Epoch 1/5\n",
      "110/110 [==============================] - 34s 289ms/step - loss: 1.0996 - accuracy: 0.6310 - val_loss: 0.8978 - val_accuracy: 0.6620\n",
      "Epoch 2/5\n",
      "110/110 [==============================] - 31s 286ms/step - loss: 0.7899 - accuracy: 0.6994 - val_loss: 0.9111 - val_accuracy: 0.6840\n",
      "Epoch 3/5\n",
      "110/110 [==============================] - 32s 288ms/step - loss: 0.6161 - accuracy: 0.7580 - val_loss: 0.9255 - val_accuracy: 0.6650\n",
      "Epoch 4/5\n",
      "110/110 [==============================] - 31s 286ms/step - loss: 0.4588 - accuracy: 0.8300 - val_loss: 0.9970 - val_accuracy: 0.6860\n",
      "Epoch 5/5\n",
      "110/110 [==============================] - 31s 286ms/step - loss: 0.3053 - accuracy: 0.8951 - val_loss: 1.0807 - val_accuracy: 0.6703\n",
      "94/94 [==============================] - 2s 26ms/step - loss: 1.0807 - accuracy: 0.6703\n",
      "Test Loss: 1.0807271003723145\n",
      "Test Accuracy: 0.6703333258628845\n",
      "94/94 [==============================] - 3s 26ms/step\n",
      "\n",
      "\n",
      "stratified sampling predicted\n",
      "Epoch 1/5\n",
      "547/547 [==============================] - 181s 327ms/step - loss: 1.2548 - accuracy: 0.4541 - val_loss: 0.9498 - val_accuracy: 0.6483\n",
      "Epoch 2/5\n",
      "547/547 [==============================] - 177s 324ms/step - loss: 0.9394 - accuracy: 0.6164 - val_loss: 0.9213 - val_accuracy: 0.6430\n",
      "Epoch 3/5\n",
      "547/547 [==============================] - 154s 281ms/step - loss: 0.7047 - accuracy: 0.7295 - val_loss: 0.9728 - val_accuracy: 0.6393\n",
      "Epoch 4/5\n",
      "547/547 [==============================] - 147s 269ms/step - loss: 0.5026 - accuracy: 0.8142 - val_loss: 1.2210 - val_accuracy: 0.5747\n",
      "Epoch 5/5\n",
      "547/547 [==============================] - 143s 262ms/step - loss: 0.3611 - accuracy: 0.8719 - val_loss: 1.4937 - val_accuracy: 0.5623\n",
      "94/94 [==============================] - 2s 20ms/step - loss: 1.4937 - accuracy: 0.5623\n",
      "Test Loss: 1.4937005043029785\n",
      "Test Accuracy: 0.562333345413208\n",
      "94/94 [==============================] - 2s 20ms/step\n"
     ]
    }
   ],
   "source": [
    "from tensorflow.keras.preprocessing.text import Tokenizer\n",
    "from tensorflow.keras.preprocessing.sequence import pad_sequences\n",
    "from tensorflow.keras.utils import to_categorical\n",
    "from tensorflow.keras.models import Sequential\n",
    "from tensorflow.keras.layers import Embedding, LSTM, Dense, Dropout\n",
    "\n",
    "def rnn_model(samples_train, samples_test, labels_train, labels_test):\n",
    "    # Tokenize text data\n",
    "    tokenizer = Tokenizer()\n",
    "    tokenizer.fit_on_texts(samples_train)\n",
    "    sequences_train = tokenizer.texts_to_sequences(samples_train)\n",
    "    sequences_test = tokenizer.texts_to_sequences(samples_test)\n",
    "\n",
    "    # Pad sequences\n",
    "    max_sequence_length = 100  # choose appropriate sequence length\n",
    "    X_train = pad_sequences(sequences_train, maxlen=max_sequence_length)\n",
    "    X_test = pad_sequences(sequences_test, maxlen=max_sequence_length)\n",
    "\n",
    "    # Convert labels to categorical format\n",
    "    num_classes = len(np.unique(labels_train))\n",
    "    y_train = to_categorical(labels_train - 1, num_classes=num_classes)\n",
    "    y_test = to_categorical(labels_test - 1, num_classes=num_classes)\n",
    "\n",
    "    # Define RNN model\n",
    "    model_rnn = Sequential()\n",
    "    model_rnn.add(Embedding(input_dim=len(tokenizer.word_index)+1, output_dim=100))\n",
    "    model_rnn.add(LSTM(128, dropout=0.2, recurrent_dropout=0.2))\n",
    "    model_rnn.add(Dense(num_classes, activation='softmax'))\n",
    "\n",
    "    # Compile the model\n",
    "    model_rnn.compile(loss='categorical_crossentropy', optimizer='adam', metrics=['accuracy'])\n",
    "\n",
    "    # Train the model\n",
    "    model_rnn.fit(X_train, y_train, batch_size=64, epochs=5, validation_data=(X_test, y_test))\n",
    "\n",
    "    # Evaluate the model\n",
    "    loss, accuracy = model_rnn.evaluate(X_test, y_test)\n",
    "    print(\"Test Loss:\", loss)\n",
    "    print(\"Test Accuracy:\", accuracy)\n",
    "\n",
    "    # Predict probabilities for each class\n",
    "    Y_pred_probabilities_rnn = model_rnn.predict(X_test)\n",
    "\n",
    "    # Extract predicted classes (argmax of predicted probabilities)\n",
    "    predicted_categories_rnn = np.argmax(Y_pred_probabilities_rnn, axis=1)\n",
    "    return model_rnn,predicted_categories_rnn\n",
    "\n",
    "\n",
    "print('random sampling predicted')\n",
    "model_rnn_rd,predicted_categories_rnn_rd = rnn_model(samples_train_rd, samples_test, labels_train_rd, labels_test)\n",
    "print(\"\\n\")\n",
    "print(\"stratified sampling predicted\")\n",
    "model_rnn_str,predicted_categories_rnn_str = rnn_model(samples_train_str, samples_test, labels_train_str, labels_test)\n"
   ]
  },
  {
   "cell_type": "markdown",
   "metadata": {
    "deletable": false,
    "editable": false,
    "nbgrader": {
     "cell_type": "markdown",
     "checksum": "c5e477712b6bad9901556381dd829392",
     "grade": false,
     "grade_id": "cell-9f3d1c8c43462384",
     "locked": true,
     "schema_version": 3,
     "solution": false,
     "task": false
    }
   },
   "source": [
    "## Implementation - Task 6\n",
    "Compute the confusion matrix, accuracy, F1-score, precision and recall for each model. (10%)"
   ]
  },
  {
   "cell_type": "code",
   "execution_count": 41,
   "metadata": {
    "deletable": false,
    "nbgrader": {
     "cell_type": "code",
     "checksum": "5080f7d517214809afe68eee9318b427",
     "grade": true,
     "grade_id": "cell-b3a9e53040d493c1",
     "locked": false,
     "points": 10,
     "schema_version": 3,
     "solution": true,
     "task": false
    }
   },
   "outputs": [
    {
     "name": "stdout",
     "output_type": "stream",
     "text": [
      "Naive Bayes\n",
      "NB_random sampling predicted\n"
     ]
    },
    {
     "data": {
      "image/png": "[encoded data removed]",
      "text/plain": [
       "<Figure size 432x288 with 2 Axes>"
      ]
     },
     "metadata": {
      "needs_background": "light"
     },
     "output_type": "display_data"
    },
    {
     "name": "stderr",
     "output_type": "stream",
     "text": [
      "/apps/jupyterhub/COMP42415/lib/python3.11/site-packages/sklearn/metrics/_classification.py:1497: UndefinedMetricWarning: Precision is ill-defined and being set to 0.0 in labels with no predicted samples. Use `zero_division` parameter to control this behavior.\n",
      "  _warn_prf(average, modifier, f\"{metric.capitalize()} is\", len(result))\n"
     ]
    },
    {
     "name": "stdout",
     "output_type": "stream",
     "text": [
      "Accuracy:\t0.642000\n",
      "F1-score:\t0.156395\n",
      "Precision:\t0.128400\n",
      "Recall:\t\t0.200000\n",
      "\n",
      "\n",
      "NB_stratified sampling predicted\n"
     ]
    },
    {
     "data": {
      "image/png": "[encoded data removed]",
      "text/plain": [
       "<Figure size 432x288 with 2 Axes>"
      ]
     },
     "metadata": {
      "needs_background": "light"
     },
     "output_type": "display_data"
    },
    {
     "name": "stdout",
     "output_type": "stream",
     "text": [
      "Accuracy:\t0.570333\n",
      "F1-score:\t0.471813\n",
      "Precision:\t0.457956\n",
      "Recall:\t\t0.537306\n",
      "\n",
      "\n",
      "KNN\n",
      "KNN_random sampling predicted\n"
     ]
    },
    {
     "data": {
      "image/png": "[encoded data removed]",
      "text/plain": [
       "<Figure size 432x288 with 2 Axes>"
      ]
     },
     "metadata": {
      "needs_background": "light"
     },
     "output_type": "display_data"
    },
    {
     "name": "stdout",
     "output_type": "stream",
     "text": [
      "Accuracy:\t0.614333\n",
      "F1-score:\t0.288528\n",
      "Precision:\t0.343359\n",
      "Recall:\t\t0.277690\n",
      "\n",
      "\n",
      "CNN\n",
      "CNN_random sampling predicted\n"
     ]
    },
    {
     "data": {
      "image/png": "[encoded data removed]",
      "text/plain": [
       "<Figure size 432x288 with 2 Axes>"
      ]
     },
     "metadata": {
      "needs_background": "light"
     },
     "output_type": "display_data"
    },
    {
     "name": "stdout",
     "output_type": "stream",
     "text": [
      "Accuracy:\t0.697667\n",
      "F1-score:\t0.458501\n",
      "Precision:\t0.492891\n",
      "Recall:\t\t0.437401\n",
      "\n",
      "\n",
      "CNN_stratified sampling predicted\n"
     ]
    },
    {
     "data": {
      "image/png": "[encoded data removed]",
      "text/plain": [
       "<Figure size 432x288 with 2 Axes>"
      ]
     },
     "metadata": {
      "needs_background": "light"
     },
     "output_type": "display_data"
    },
    {
     "name": "stdout",
     "output_type": "stream",
     "text": [
      "Accuracy:\t0.519667\n",
      "F1-score:\t0.472054\n",
      "Precision:\t0.471941\n",
      "Recall:\t\t0.558377\n",
      "\n",
      "\n",
      "RNN\n",
      "RNN_random sampling predicted\n"
     ]
    },
    {
     "data": {
      "image/png": "[encoded data removed]",
      "text/plain": [
       "<Figure size 432x288 with 2 Axes>"
      ]
     },
     "metadata": {
      "needs_background": "light"
     },
     "output_type": "display_data"
    },
    {
     "name": "stdout",
     "output_type": "stream",
     "text": [
      "Accuracy:\t0.697667\n",
      "F1-score:\t0.458501\n",
      "Precision:\t0.492891\n",
      "Recall:\t\t0.437401\n",
      "\n",
      "\n",
      "RNN_stratified sampling predicted\n"
     ]
    },
    {
     "data": {
      "image/png": "[encoded data removed]",
      "text/plain": [
       "<Figure size 432x288 with 2 Axes>"
      ]
     },
     "metadata": {
      "needs_background": "light"
     },
     "output_type": "display_data"
    },
    {
     "name": "stdout",
     "output_type": "stream",
     "text": [
      "Accuracy:\t0.562333\n",
      "F1-score:\t0.476966\n",
      "Precision:\t0.470853\n",
      "Recall:\t\t0.542710\n",
      "\n",
      "\n"
     ]
    }
   ],
   "source": [
    "# YOUR CODE HERE\n",
    "#raise NotImplementedError()\n",
    "\n",
    "def model_performance(model_type,labels_test, predicted_categories):\n",
    "    mat = confusion_matrix(labels_test, predicted_categories)\n",
    "    sns.heatmap(mat.T, square = True, annot=True, fmt = \"d\",xticklabels=np.unique(labels_test),yticklabels=np.unique(predicted_categories))\n",
    "\n",
    "    plt.xlabel(\"True label\")\n",
    "    plt.ylabel(\"Predicted label\")\n",
    "    plt.show()\n",
    "    \n",
    "    # Compute accuracy, precision, recall, and F1-score\n",
    "    accuracy = accuracy_score(labels_test, predicted_categories)\n",
    "    precision = precision_score(labels_test, predicted_categories, average='macro')\n",
    "    recall = recall_score(labels_test, predicted_categories, average='macro')\n",
    "    f1 = f1_score(labels_test, predicted_categories, average='macro')\n",
    "\n",
    "    # Print performance metrics\n",
    "    print(\"Accuracy:\\t%f\" % accuracy)\n",
    "    print(\"F1-score:\\t%f\" % f1)\n",
    "    print(\"Precision:\\t%f\" % precision)\n",
    "    print(\"Recall:\\t\\t%f\" % recall)\n",
    "    print(\"\\n\")\n",
    "\n",
    "print(\"Naive Bayes\")\n",
    "print('NB_random sampling predicted')\n",
    "model_performance('NB',labels_test, predicted_categories_nb_rd)\n",
    "print(\"NB_stratified sampling predicted\")\n",
    "model_performance('NB',labels_test, predicted_categories_nb_str)\n",
    "\n",
    "print(\"KNN\")\n",
    "print('KNN_random sampling predicted')\n",
    "model_performance('KNN',labels_test, predicted_categories_knn_rd)\n",
    "# print(\"KNN_stratified sampling predicted\")\n",
    "# predicted_categories = predicted_categories_knn_str+1\n",
    "# model_performance('KNN',labels_test, predicted_categories)\n",
    "\n",
    "\n",
    "print(\"CNN\")\n",
    "print('CNN_random sampling predicted')\n",
    "predicted_categories = predicted_categories_cnn_rd+1\n",
    "model_performance('CNN',labels_test, predicted_categories)\n",
    "print(\"CNN_stratified sampling predicted\")\n",
    "predicted_categories = predicted_categories_cnn_str+1\n",
    "model_performance('CNN',labels_test, predicted_categories)\n",
    "\n",
    "\n",
    "print(\"RNN\")\n",
    "print('RNN_random sampling predicted')\n",
    "predicted_categories = predicted_categories_cnn_rd+1\n",
    "model_performance('RNN',labels_test, predicted_categories)\n",
    "print(\"RNN_stratified sampling predicted\")\n",
    "predicted_categories = predicted_categories_rnn_str+1\n",
    "model_performance('RNN',labels_test, predicted_categories)"
   ]
  },
  {
   "cell_type": "markdown",
   "metadata": {
    "deletable": false,
    "editable": false,
    "nbgrader": {
     "cell_type": "markdown",
     "checksum": "9def807c7734179b60c1d5121bbbd436",
     "grade": false,
     "grade_id": "cell-290a6e3bf464e305",
     "locked": true,
     "schema_version": 3,
     "solution": false,
     "task": false
    }
   },
   "source": [
    "## Implementation - Task 7\n",
    "Store the **four** trained models in files and implement a function `predict_food_review(text, model)` that given a <ins>text string</ins> (“`text`”) and model <ins>filename</ins> (“`model`”), it will load the pre-trained model, and predict the food review rating of the input text. The function should be able to work without requiring to rerun all or part of your code. (**10%**)"
   ]
  },
  {
   "cell_type": "code",
   "execution_count": 39,
   "metadata": {
    "deletable": false,
    "nbgrader": {
     "cell_type": "code",
     "checksum": "03a2117734166d6e91043d88d5c5ef8a",
     "grade": true,
     "grade_id": "cell-f384d017d7d6ac75",
     "locked": false,
     "points": 10,
     "schema_version": 3,
     "solution": true,
     "task": false
    }
   },
   "outputs": [
    {
     "name": "stdout",
     "output_type": "stream",
     "text": [
      "Naive Bayes predicted Score:  3\n",
      "KNN predicted Score:  5\n",
      "1/1 [==============================] - 0s 60ms/step\n",
      "CNN Predicted score: 3\n",
      "1/1 [==============================] - 0s 206ms/step\n",
      "RNN Predicted score: 4\n"
     ]
    }
   ],
   "source": [
    "# YOUR CODE HERE\n",
    "#raise NotImplementedError()\n",
    "import pickle\n",
    "\n",
    "pickle.dump(model_nb_str, open('model_nb.pkl', 'wb'))\n",
    "\n",
    "pickle.dump(model_knn_rd, open('model_knn.pkl', 'wb'))\n",
    "\n",
    "pickle.dump(model_cnn_str, open('model_cnn.pkl', 'wb'))\n",
    "\n",
    "pickle.dump(model_rnn_str, open('model_rnn.pkl', 'wb'))\n",
    "\n",
    "def predict_food_review(text,model):\n",
    "    if model == 'Naive Bayes':\n",
    "        loaded_model = pickle.load(open('model_nb.pkl', 'rb')) #for nb, choose stratified sampling method\n",
    "        predicted_categories = loaded_model.predict([text])[0]\n",
    "        print('Naive Bayes predicted Score: ', predicted_categories)\n",
    "        \n",
    "    elif model == 'KNN':\n",
    "        loaded_model = pickle.load(open('model_knn.pkl', 'rb'))\n",
    "        predicted_categories = loaded_model.predict([text])[0]\n",
    "        print('KNN predicted Score: ', predicted_categories)\n",
    "    elif model == 'CNN':\n",
    "        loaded_model = pickle.load(open('model_cnn.pkl', 'rb'))\n",
    "        tokenizer = Tokenizer()\n",
    "        tokenizer.fit_on_texts([text])\n",
    "        sequence = tokenizer.texts_to_sequences([text])[0]\n",
    "        max_sequence_length = 100\n",
    "        X_test_padded = pad_sequences([sequence], maxlen=max_sequence_length)\n",
    "        Y_pred_probabilities = loaded_model.predict(X_test_padded)[0]\n",
    "        predicted_categories = np.argmax(Y_pred_probabilities)\n",
    "        print(\"CNN Predicted score:\", predicted_categories+1)      \n",
    "        \n",
    "    elif model == 'RNN':\n",
    "        loaded_model = pickle.load(open('model_rnn.pkl', 'rb'))\n",
    "        tokenizer = Tokenizer()\n",
    "        tokenizer.fit_on_texts([text])\n",
    "        sequence = tokenizer.texts_to_sequences([text])[0]\n",
    "        max_sequence_length = 100\n",
    "        X_test_padded = pad_sequences([sequence], maxlen=max_sequence_length)\n",
    "        Y_pred_probabilities = loaded_model.predict(X_test_padded)[0]\n",
    "        predicted_categories = np.argmax(Y_pred_probabilities)\n",
    "        print(\"RNN Predicted score:\", predicted_categories+1)     \n",
    "\n",
    "#I select a 3-score review from the original raw_data \n",
    "text = \"Ok to try This honey is good, its pretty sweet tasting, yet mild. I wanted to try it, and its nice, but i thought the whole honeycomb would be in the jar, as i'd prefer it entirely raw. I think ill stick with naturally raw honey, that is an excellent brand, and you sure pay for the quality with the price. This one is just okay, not as potent as i'd like.\"\n",
    "predict_food_review(text, \"Naive Bayes\")\n",
    "predict_food_review(text, 'KNN')\n",
    "predict_food_review(text, 'CNN')\n",
    "predict_food_review(text, 'RNN')\n"
   ]
  },
  {
   "cell_type": "markdown",
   "metadata": {
    "deletable": false,
    "editable": false,
    "nbgrader": {
     "cell_type": "markdown",
     "checksum": "66fe20bf6b18e122ab5eb3a8110ee13b",
     "grade": false,
     "grade_id": "cell-3632d0c81d039058",
     "locked": true,
     "schema_version": 3,
     "solution": false,
     "task": false
    }
   },
   "source": [
    "## Report - Task 1\n",
    "Critical discussion about the dataset (suitability, problems, class balance, etc.). (**6%**)"
   ]
  },
  {
   "cell_type": "markdown",
   "metadata": {
    "deletable": false,
    "nbgrader": {
     "cell_type": "markdown",
     "checksum": "c04a7d6b4dc1614cce18ae7dc9b59ee0",
     "grade": true,
     "grade_id": "cell-723b0c0e08ba0f30",
     "locked": false,
     "points": 6,
     "schema_version": 3,
     "solution": true,
     "task": false
    }
   },
   "source": [
    "After examining the data set, here are my observations:\n",
    "1.\tTwo Useful Columns: Column ‘Text’ and ‘Summary’ contain useful information. Therefore, I combined them into a new column to construct all four models.\n",
    "2.\tNoise: Since the data consists of food reviews retrieved from a website, the text is naturally non-standard. It includes HTML tags, punctuations, stop words, and a mixture of uppercase and lowercase words. To address this, I utilized a punctuations list and regular regression for data preprocessing, converting all words to lowercase. \n",
    "3.\tLarge Corpus: The data set comprises over 530,000 rows with 3 columns. The ‘Text’ column contains lengthy content. Utilizing the entire dataset for train and test split would result in extensive training times. Therefore, data sampling is necessary.\n",
    "4.\tClass Imbalance: The target variable exhibits significant imbalance, with 63% of the data is five score and only 9% is 1 score. Two sampling methods that could be appropriate for creating the training data set are random sampling and stratified sampling. Before proceeding with model training, I do not know which method is better. So, I use both to compare. For test data set, random selection is suitable to mirror real-world conditions as closely as possible. \n"
   ]
  },
  {
   "cell_type": "markdown",
   "metadata": {
    "deletable": false,
    "editable": false,
    "nbgrader": {
     "cell_type": "markdown",
     "checksum": "e16e80cbdb327b4bd8b3dc8644c93953",
     "grade": false,
     "grade_id": "cell-cf6f3bf73d0b219c",
     "locked": true,
     "schema_version": 3,
     "solution": false,
     "task": false
    }
   },
   "source": [
    "## Report - Task 2\n",
    "Description and justification of the data preparation step(s) used. (**6%**)"
   ]
  },
  {
   "cell_type": "markdown",
   "metadata": {
    "deletable": false,
    "nbgrader": {
     "cell_type": "markdown",
     "checksum": "9d827d373523a1ebd5f7adf108d5fc5e",
     "grade": true,
     "grade_id": "cell-ff3a7a6577a764fb",
     "locked": false,
     "points": 6,
     "schema_version": 3,
     "solution": true,
     "task": false
    }
   },
   "source": [
    "After loading the dataset (df_raw), I initially dropped texts shorter than 50 characters. This was done to eliminate low-quality reviews with insufficient information. Subsequently, I combined the \"Summary\" and \"Text\" columns to create a new column called \"Overallreview\" (as mentioned in Q1). For the subsequent steps, I will utilize this new column to predict the score.\n",
    "\n",
    "Next, I defined a function called \"get_words_processed\" to remove punctuation, stop words, and convert all words to lowercase. Following this, I created a function called \"corpus_process\" to iterate through and preprocess all the words in my dataframe.\n",
    "\n",
    "Additionally, I defined a function called \"sampling()\" to implement two sampling methods as mentioned in Q1. I opted for 3000 rows for the test dataset and 7000 for the training dataset."
   ]
  },
  {
   "cell_type": "markdown",
   "metadata": {
    "deletable": false,
    "editable": false,
    "nbgrader": {
     "cell_type": "markdown",
     "checksum": "5bfd5a727276dd53f136df6d1d262fe6",
     "grade": false,
     "grade_id": "cell-0a65e991a54b21c4",
     "locked": true,
     "schema_version": 3,
     "solution": false,
     "task": false
    }
   },
   "source": [
    "## Report - Task 3\n",
    "Description and commentary on the machine learning architectures used, including a description and justification of the text representation method(s) used. (**7%**)"
   ]
  },
  {
   "cell_type": "markdown",
   "metadata": {
    "deletable": false,
    "nbgrader": {
     "cell_type": "markdown",
     "checksum": "03960b9d6fae49a8bbd6547d5c67b9fc",
     "grade": true,
     "grade_id": "cell-6c64da91adfef770",
     "locked": false,
     "points": 7,
     "schema_version": 3,
     "solution": true,
     "task": false
    }
   },
   "source": [
    "For Naïve Bayes and KNN model, I choose the TF-IDF technique for text representation. As mentioned in Q1, this corpus is very large. TF-IDF is good at handling large text corpora. Based on what I learned in this module, it represents each document as a vector in a high-dimensional space and takes the frequency of each word into consideration. \n",
    "\n",
    "For CNN model, there are three layers: 1) Embedding layer: I use word embedding technique for my CNN model. This layer converts each word into a dense vector representation. 2) Convolutional layers: This layer extract local patterns or features from the text data.  3) Pooling layer: this layer reduces the dimensionality of the output. 4) Dense layers: this layer takes the information from the previous layer, combines all the context, and make prediction of the score. I set the activation as 'softmax' because the target variable has 5 classes. \n",
    "\n",
    "For RNN model, there are three layers: 1) Embedding layer: I use word embedding technique for my RNN model. Similar to the CNN model. 2) LSTM layer: this layer takes the dense word embeddings as input and captures the relationship between each word. 3) Dense layer: similar to the CNN model.\n",
    "\n",
    "For Naïve Bayes and KNN. Navie Bayes and KNN work well with high-dimensional feature. TF-IDF converts words into a high-dimensional feature, so it’s suitable. \n",
    "For CNN and RNN, I choose word embedding because word embedding is good at capturing the semantic relationships between words. And CNN and RNN excel at capturing the relationship of words. \n"
   ]
  },
  {
   "cell_type": "markdown",
   "metadata": {
    "deletable": false,
    "editable": false,
    "nbgrader": {
     "cell_type": "markdown",
     "checksum": "874f5d8565ae3e5a4cb52d837e4beceb",
     "grade": false,
     "grade_id": "cell-7112118f421c6a5a",
     "locked": true,
     "schema_version": 3,
     "solution": false,
     "task": false
    }
   },
   "source": [
    "## Report - Task 4\n",
    "Detailed performance evaluation of the trained machine learning models in terms of the computed performance metrics. (**5%**)"
   ]
  },
  {
   "cell_type": "markdown",
   "metadata": {
    "deletable": false,
    "nbgrader": {
     "cell_type": "markdown",
     "checksum": "071a2e19285688d52725adc2063d2044",
     "grade": true,
     "grade_id": "cell-201e49e468eaa417",
     "locked": false,
     "points": 5,
     "schema_version": 3,
     "solution": true,
     "task": false
    }
   },
   "source": [
    "Based on the output result in Task 6, here’s the model comparison:\n",
    "\n",
    "Due to the data imbalance in the dataset, I would argue that the F1 score is more important, as accuracy only measures overall correctness, whereas the F1 score penalizes the model for making incorrect predictions.\n",
    "\n",
    "For Naïve Bayes models, if I use the random sampling method, even though the accuracy is high (0.64), the F1 score is very low (0.15). It predicts all scores as 5. Therefore, for Naïve Bayes models, the stratified method is more appropriate. With a lower accuracy score (0.57), the F1 score is higher (0.47).\n",
    "\n",
    "For KNN, when applying cross-validation to the stratified method training dataset, the model takes a very long time to run. Efficiency is also crucial, so for KNN, I opt for the random sampling method. Moreover, when k = 5, the F1 score is the highest (0.28), so I choose k = 5. The final model (k = 5) has an accuracy of 0.61.\n",
    "\n",
    "For CNN and RNN, when using the stratified sampling method, the F1 score is higher. Hence, I choose the stratified sampling method to train the final model.\n",
    "\n",
    "Comparing the final F1 scores of the four models, their performances are as follows: Naïve Bayes: 0.15, KNN: 0.28, CNN: 0.45, RNN: 0.47. Thus, in general, the RNN model performs the best."
   ]
  },
  {
   "cell_type": "markdown",
   "metadata": {
    "deletable": false,
    "editable": false,
    "nbgrader": {
     "cell_type": "markdown",
     "checksum": "ac8dc11dd7f998b7d3d5c0e904c08c5f",
     "grade": false,
     "grade_id": "cell-5e6e5b8b57811a63",
     "locked": true,
     "schema_version": 3,
     "solution": false,
     "task": false
    }
   },
   "source": [
    "## Report - Task 5\n",
    "Critical discussion on the achieved results, including potential limitations and usage instructions/suggestions. (**6%**)"
   ]
  },
  {
   "cell_type": "markdown",
   "metadata": {
    "deletable": false,
    "nbgrader": {
     "cell_type": "markdown",
     "checksum": "27dd1c5197d66c3081a133456110abb0",
     "grade": true,
     "grade_id": "cell-11c60b80d50f1d27",
     "locked": false,
     "points": 6,
     "schema_version": 3,
     "solution": true,
     "task": false
    }
   },
   "source": [
    "I think the highest F1 score among the four models (47%) is not very satisfactory. However, predicting a 5-class target variable is challenging because the nuance between scores 4 and 5 is very subtle. Additionally, due to the imbalanced class distribution, it's even more challenging to predict accurately.\n",
    "\n",
    "When using the above models for prediction, they tend to perform better on very positive reviews but not as well on reviews with both positive and negative language.\n",
    "\n",
    "Another limitation is the quality of the corpus. Different people may assign different scores to similar reviews, introducing subjectivity and potentially affecting the model's performance."
   ]
  }
 ],
 "metadata": {
  "kernelspec": {
   "display_name": "Python 3 (ipykernel)",
   "language": "python",
   "name": "python3"
  },
  "language_info": {
   "codemirror_mode": {
    "name": "ipython",
    "version": 3
   },
   "file_extension": ".py",
   "mimetype": "text/x-python",
   "name": "python",
   "nbconvert_exporter": "python",
   "pygments_lexer": "ipython3",
   "version": "3.11.0"
  }
 },
 "nbformat": 4,
 "nbformat_minor": 4
}
